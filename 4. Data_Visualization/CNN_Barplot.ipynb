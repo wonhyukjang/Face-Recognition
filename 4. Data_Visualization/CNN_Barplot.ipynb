{
 "cells": [
  {
   "cell_type": "code",
   "execution_count": 1,
   "metadata": {
    "collapsed": false
   },
   "outputs": [],
   "source": [
    "import pandas as pd\n",
    "import numpy as np\n",
    "import matplotlib.pyplot as plt\n",
    "%matplotlib inline"
   ]
  },
  {
   "cell_type": "code",
   "execution_count": 2,
   "metadata": {
    "collapsed": false
   },
   "outputs": [],
   "source": [
    "def times100(x):\n",
    "    # that, if x is a string,\n",
    "    if type(x) is str:\n",
    "        # just returns it untouched\n",
    "        return x\n",
    "    # but, if not, return it multiplied by 100\n",
    "    elif x:\n",
    "        return 100 * x\n",
    "    # and leave everything else\n",
    "    else:\n",
    "        return\n",
    "def round_up(x):\n",
    "    return round(x,4)"
   ]
  },
  {
   "cell_type": "code",
   "execution_count": 3,
   "metadata": {
    "collapsed": false
   },
   "outputs": [],
   "source": [
    "df = pd.read_excel('CNN_Output.xlsx')"
   ]
  },
  {
   "cell_type": "code",
   "execution_count": 4,
   "metadata": {
    "collapsed": false
   },
   "outputs": [],
   "source": [
    "df = df.applymap(round_up)\n",
    "df = df.applymap(times100)"
   ]
  },
  {
   "cell_type": "code",
   "execution_count": 5,
   "metadata": {
    "collapsed": false
   },
   "outputs": [
    {
     "data": {
      "text/html": [
       "<div>\n",
       "<table border=\"1\" class=\"dataframe\">\n",
       "  <thead>\n",
       "    <tr style=\"text-align: right;\">\n",
       "      <th></th>\n",
       "      <th>Precision</th>\n",
       "      <th>Recall</th>\n",
       "      <th>F1_Score</th>\n",
       "      <th>Accuracy</th>\n",
       "    </tr>\n",
       "  </thead>\n",
       "  <tbody>\n",
       "    <tr>\n",
       "      <th>0</th>\n",
       "      <td>49.21</td>\n",
       "      <td>58.74</td>\n",
       "      <td>53.55</td>\n",
       "      <td>61.00</td>\n",
       "    </tr>\n",
       "    <tr>\n",
       "      <th>1</th>\n",
       "      <td>48.99</td>\n",
       "      <td>45.98</td>\n",
       "      <td>47.44</td>\n",
       "      <td>58.77</td>\n",
       "    </tr>\n",
       "    <tr>\n",
       "      <th>2</th>\n",
       "      <td>50.00</td>\n",
       "      <td>46.77</td>\n",
       "      <td>48.33</td>\n",
       "      <td>59.65</td>\n",
       "    </tr>\n",
       "  </tbody>\n",
       "</table>\n",
       "</div>"
      ],
      "text/plain": [
       "   Precision  Recall  F1_Score  Accuracy\n",
       "0      49.21   58.74     53.55     61.00\n",
       "1      48.99   45.98     47.44     58.77\n",
       "2      50.00   46.77     48.33     59.65"
      ]
     },
     "execution_count": 5,
     "metadata": {},
     "output_type": "execute_result"
    }
   ],
   "source": [
    "df"
   ]
  },
  {
   "cell_type": "code",
   "execution_count": 6,
   "metadata": {
    "collapsed": false
   },
   "outputs": [],
   "source": [
    "cell_text = [df[i].values for i in df.keys()]"
   ]
  },
  {
   "cell_type": "code",
   "execution_count": 7,
   "metadata": {
    "collapsed": false
   },
   "outputs": [
    {
     "data": {
      "text/plain": [
       "[array([ 49.21,  48.99,  50.  ]),\n",
       " array([ 58.74,  45.98,  46.77]),\n",
       " array([ 53.55,  47.44,  48.33]),\n",
       " array([ 61.  ,  58.77,  59.65])]"
      ]
     },
     "execution_count": 7,
     "metadata": {},
     "output_type": "execute_result"
    }
   ],
   "source": [
    "cell_text"
   ]
  },
  {
   "cell_type": "code",
   "execution_count": 8,
   "metadata": {
    "collapsed": true
   },
   "outputs": [],
   "source": [
    "cell_text_per = []\n",
    "cell_text_per.append(list(map(\"{}%\".format, cell_text[0])))\n",
    "cell_text_per.append(list(map(\"{}%\".format, cell_text[1])))\n",
    "cell_text_per.append(list(map(\"{}%\".format, cell_text[2])))\n",
    "cell_text_per.append(list(map(\"{}%\".format, cell_text[3])))"
   ]
  },
  {
   "cell_type": "code",
   "execution_count": 9,
   "metadata": {
    "collapsed": false
   },
   "outputs": [
    {
     "data": {
      "text/plain": [
       "[['49.21%', '48.99%', '50.0%'],\n",
       " ['58.74%', '45.98%', '46.77%'],\n",
       " ['53.55%', '47.44%', '48.33%'],\n",
       " ['61.0%', '58.77%', '59.65%']]"
      ]
     },
     "execution_count": 9,
     "metadata": {},
     "output_type": "execute_result"
    }
   ],
   "source": [
    "cell_text_per"
   ]
  },
  {
   "cell_type": "code",
   "execution_count": 10,
   "metadata": {
    "collapsed": false
   },
   "outputs": [
    {
     "data": {
      "text/plain": [
       "[['49.21%', '48.99%', '50.00%'],\n",
       " ['58.74%', '45.98%', '46.77%'],\n",
       " ['53.55%', '47.44%', '48.33%'],\n",
       " ['61.00%', '58.77%', '59.65%']]"
      ]
     },
     "execution_count": 10,
     "metadata": {},
     "output_type": "execute_result"
    }
   ],
   "source": [
    "cell_text_per[0][2] = '50.00%'\n",
    "cell_text_per[3][0] = '61.00%'\n",
    "\n",
    "\n",
    "cell_text_per"
   ]
  },
  {
   "cell_type": "code",
   "execution_count": 11,
   "metadata": {
    "collapsed": false,
    "scrolled": false
   },
   "outputs": [
    {
     "name": "stderr",
     "output_type": "stream",
     "text": [
      "/Users/wonhyukjang/Library/Enthought/Canopy_64bit/User/lib/python2.7/site-packages/matplotlib/font_manager.py:1288: UserWarning: findfont: Font family [u'sans-serif'] not found. Falling back to Bitstream Vera Sans\n",
      "  (prop.get_family(), self.defaultFamily[fontext]))\n"
     ]
    },
    {
     "data": {
      "image/png": "[encoded data removed]",
      "text/plain": [
       "<matplotlib.figure.Figure at 0x10b8a4b50>"
      ]
     },
     "metadata": {},
     "output_type": "display_data"
    }
   ],
   "source": [
    "from matplotlib import rc\n",
    "import matplotlib as mpl\n",
    "\n",
    "rc('font',**{'family':'sans-serif','sans-serif':['DejaVu Sans'],'size':12})\n",
    "\n",
    "N = 3\n",
    "precision = df.Precision.values\n",
    "recall = df.Recall.values\n",
    "f1 = df.F1_Score.values\n",
    "accuracy = df.Accuracy.values\n",
    "\n",
    "ind = np.arange(N)  # the x locations for the groups\n",
    "width = 0.15       # the width of the bars\n",
    "\n",
    "fig, ax = plt.subplots(figsize=(10,7))\n",
    "\n",
    "rects1 = ax.bar(ind + width, precision, width, color='r',hatch='//')\n",
    "\n",
    "rects2 = ax.bar(ind + 2*width, recall, width, color='y',hatch='-')\n",
    "\n",
    "rects3 = ax.bar(ind + 3*width, f1, width, color='b',hatch='\\\\\\\\')\n",
    "\n",
    "rects4 = ax.bar(ind + 4*width, accuracy, width, color='g',hatch='.')\n",
    "\n",
    "# add some text for labels, title and axes ticks\n",
    "# ax.set_axis_bgcolor('white')\n",
    "\n",
    "# ax.set_xticks(ind + width * 3)\n",
    "y_tick = np.arange(0,110,10)\n",
    "y_percentage = ['0%','10%','20%','30%','40%','50%','60%','70%','80%','90%','100%']\n",
    "ax.set_yticks(y_tick)\n",
    "# plt.setp(ax, yticks=y_tick)\n",
    "\n",
    "\n",
    "ax.set_yticklabels(y_percentage)\n",
    "\n",
    "ax.legend((rects1[0], rects2[0],rects3[0],rects4[0]), ('Precision', 'Recall','F1 Score','Total Accuracy'),loc = 1)\n",
    "\n",
    "ax.tick_params(axis='y', which='both', color='b')\n",
    "def autolabel(rects):\n",
    "    for rect in rects:\n",
    "        height = rect.get_height()\n",
    "        ax.text(rect.get_x() + rect.get_width()/2., 1.05*height,\n",
    "                '%d' % round(height),\n",
    "                ha='center', va='bottom')\n",
    "\n",
    "autolabel(rects1)\n",
    "autolabel(rects2)\n",
    "autolabel(rects3)\n",
    "\n",
    "autolabel(rects4)\n",
    "\n",
    "rows = ['Precision','Recall','F1 Score','Accuracy']\n",
    "columns = ['CNN1', 'CNN2', 'CNN3']\n",
    "the_table = plt.table(cellText=cell_text_per,\n",
    "                      rowLabels=rows,\n",
    "                      cellLoc='center',\n",
    "                      colLabels=columns,\n",
    "                      loc='bottom')\n",
    "ax.spines['right'].set_visible(False)\n",
    "ax.spines['top'].set_visible(False)\n",
    "ax.xaxis.set_ticks_position('bottom')\n",
    "ax.yaxis.set_ticks_position('left')\n",
    "\n",
    "plt.xticks([])\n",
    "    \n",
    "plt.ylim([0.0, 100.0])\n",
    "plt.ylabel('Percentage')\n",
    "plt.title('CNN_Result')\n",
    "# plt.show()\n",
    "plt.savefig(\"cnn_Barplot.png\")"
   ]
  },
  {
   "cell_type": "code",
   "execution_count": null,
   "metadata": {
    "collapsed": true
   },
   "outputs": [],
   "source": []
  }
 ],
 "metadata": {
  "kernelspec": {
   "display_name": "Python 2",
   "language": "python",
   "name": "python2"
  },
  "language_info": {
   "codemirror_mode": {
    "name": "ipython",
    "version": 2
   },
   "file_extension": ".py",
   "mimetype": "text/x-python",
   "name": "python",
   "nbconvert_exporter": "python",
   "pygments_lexer": "ipython2",
   "version": "2.7.10"
  }
 },
 "nbformat": 4,
 "nbformat_minor": 2
}
