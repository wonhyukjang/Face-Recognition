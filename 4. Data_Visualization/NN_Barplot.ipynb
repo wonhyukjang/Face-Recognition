{
 "cells": [
  {
   "cell_type": "code",
   "execution_count": 1,
   "metadata": {
    "collapsed": false
   },
   "outputs": [],
   "source": [
    "import pandas as pd\n",
    "import numpy as np\n",
    "import matplotlib.pyplot as plt\n",
    "%matplotlib inline"
   ]
  },
  {
   "cell_type": "code",
   "execution_count": 2,
   "metadata": {
    "collapsed": false
   },
   "outputs": [],
   "source": [
    "def times100(x):\n",
    "    # that, if x is a string,\n",
    "    if type(x) is str:\n",
    "        # just returns it untouched\n",
    "        return x\n",
    "    # but, if not, return it multiplied by 100\n",
    "    elif x:\n",
    "        return 100 * x\n",
    "    # and leave everything else\n",
    "    else:\n",
    "        return\n",
    "def round_up(x):\n",
    "    return round(x,4)"
   ]
  },
  {
   "cell_type": "code",
   "execution_count": 3,
   "metadata": {
    "collapsed": false
   },
   "outputs": [],
   "source": [
    "df = pd.read_excel('NN_Output.xlsx')"
   ]
  },
  {
   "cell_type": "code",
   "execution_count": 4,
   "metadata": {
    "collapsed": false
   },
   "outputs": [],
   "source": [
    "df = df.applymap(round_up)\n",
    "df = df.applymap(times100)"
   ]
  },
  {
   "cell_type": "code",
   "execution_count": 5,
   "metadata": {
    "collapsed": false
   },
   "outputs": [
    {
     "data": {
      "text/html": [
       "<div>\n",
       "<table border=\"1\" class=\"dataframe\">\n",
       "  <thead>\n",
       "    <tr style=\"text-align: right;\">\n",
       "      <th></th>\n",
       "      <th>Precision</th>\n",
       "      <th>Recall</th>\n",
       "      <th>F1_Score</th>\n",
       "      <th>Accuracy</th>\n",
       "    </tr>\n",
       "  </thead>\n",
       "  <tbody>\n",
       "    <tr>\n",
       "      <th>0</th>\n",
       "      <td>33.51</td>\n",
       "      <td>40.00</td>\n",
       "      <td>36.47</td>\n",
       "      <td>44.17</td>\n",
       "    </tr>\n",
       "    <tr>\n",
       "      <th>1</th>\n",
       "      <td>34.75</td>\n",
       "      <td>33.39</td>\n",
       "      <td>34.06</td>\n",
       "      <td>40.40</td>\n",
       "    </tr>\n",
       "    <tr>\n",
       "      <th>2</th>\n",
       "      <td>35.70</td>\n",
       "      <td>35.59</td>\n",
       "      <td>35.65</td>\n",
       "      <td>45.75</td>\n",
       "    </tr>\n",
       "  </tbody>\n",
       "</table>\n",
       "</div>"
      ],
      "text/plain": [
       "   Precision  Recall  F1_Score  Accuracy\n",
       "0      33.51   40.00     36.47     44.17\n",
       "1      34.75   33.39     34.06     40.40\n",
       "2      35.70   35.59     35.65     45.75"
      ]
     },
     "execution_count": 5,
     "metadata": {},
     "output_type": "execute_result"
    }
   ],
   "source": [
    "df"
   ]
  },
  {
   "cell_type": "code",
   "execution_count": 7,
   "metadata": {
    "collapsed": false
   },
   "outputs": [],
   "source": [
    "cell_text = [df[i].values for i in df.keys()]"
   ]
  },
  {
   "cell_type": "code",
   "execution_count": 8,
   "metadata": {
    "collapsed": false
   },
   "outputs": [
    {
     "data": {
      "text/plain": [
       "[array([ 33.51,  34.75,  35.7 ]),\n",
       " array([ 40.  ,  33.39,  35.59]),\n",
       " array([ 36.47,  34.06,  35.65]),\n",
       " array([ 44.17,  40.4 ,  45.75])]"
      ]
     },
     "execution_count": 8,
     "metadata": {},
     "output_type": "execute_result"
    }
   ],
   "source": [
    "cell_text"
   ]
  },
  {
   "cell_type": "code",
   "execution_count": 9,
   "metadata": {
    "collapsed": true
   },
   "outputs": [],
   "source": [
    "cell_text_per = []\n",
    "cell_text_per.append(list(map(\"{}%\".format, cell_text[0])))\n",
    "cell_text_per.append(list(map(\"{}%\".format, cell_text[1])))\n",
    "cell_text_per.append(list(map(\"{}%\".format, cell_text[2])))\n",
    "cell_text_per.append(list(map(\"{}%\".format, cell_text[3])))"
   ]
  },
  {
   "cell_type": "code",
   "execution_count": 10,
   "metadata": {
    "collapsed": false
   },
   "outputs": [
    {
     "data": {
      "text/plain": [
       "[['33.51%', '34.75%', '35.7%'],\n",
       " ['40.0%', '33.39%', '35.59%'],\n",
       " ['36.47%', '34.06%', '35.65%'],\n",
       " ['44.17%', '40.4%', '45.75%']]"
      ]
     },
     "execution_count": 10,
     "metadata": {},
     "output_type": "execute_result"
    }
   ],
   "source": [
    "cell_text_per"
   ]
  },
  {
   "cell_type": "code",
   "execution_count": 11,
   "metadata": {
    "collapsed": false
   },
   "outputs": [
    {
     "data": {
      "text/plain": [
       "[['33.51%', '34.75%', '35.70%'],\n",
       " ['40.00%', '33.39%', '35.59%'],\n",
       " ['36.47%', '34.06%', '35.65%'],\n",
       " ['44.17%', '40.40%', '45.75%']]"
      ]
     },
     "execution_count": 11,
     "metadata": {},
     "output_type": "execute_result"
    }
   ],
   "source": [
    "cell_text_per[0][2] = '35.70%'\n",
    "cell_text_per[1][0] = '40.00%'\n",
    "cell_text_per[3][1] = '40.40%'\n",
    "\n",
    "\n",
    "cell_text_per"
   ]
  },
  {
   "cell_type": "code",
   "execution_count": 17,
   "metadata": {
    "collapsed": false,
    "scrolled": false
   },
   "outputs": [
    {
     "data": {
      "image/png": "[encoded data removed]",
      "text/plain": [
       "<matplotlib.figure.Figure at 0x10c5e2590>"
      ]
     },
     "metadata": {},
     "output_type": "display_data"
    }
   ],
   "source": [
    "from matplotlib import rc\n",
    "import matplotlib as mpl\n",
    "\n",
    "rc('font',**{'family':'sans-serif','sans-serif':['DejaVu Sans'],'size':12})\n",
    "\n",
    "N = 3\n",
    "precision = df.Precision.values\n",
    "recall = df.Recall.values\n",
    "f1 = df.F1_Score.values\n",
    "accuracy = df.Accuracy.values\n",
    "\n",
    "ind = np.arange(N)  # the x locations for the groups\n",
    "width = 0.15       # the width of the bars\n",
    "\n",
    "fig, ax = plt.subplots(figsize=(10,7))\n",
    "\n",
    "rects1 = ax.bar(ind + width, precision, width, color='r',hatch='//')\n",
    "\n",
    "rects2 = ax.bar(ind + 2*width, recall, width, color='y',hatch='-')\n",
    "\n",
    "rects3 = ax.bar(ind + 3*width, f1, width, color='b',hatch='\\\\\\\\')\n",
    "\n",
    "rects4 = ax.bar(ind + 4*width, accuracy, width, color='g',hatch='.')\n",
    "\n",
    "# add some text for labels, title and axes ticks\n",
    "# ax.set_axis_bgcolor('white')\n",
    "\n",
    "# ax.set_xticks(ind + width * 3)\n",
    "y_tick = np.arange(0,110,10)\n",
    "y_percentage = ['0%','10%','20%','30%','40%','50%','60%','70%','80%','90%','100%']\n",
    "ax.set_yticks(y_tick)\n",
    "# plt.setp(ax, yticks=y_tick)\n",
    "\n",
    "\n",
    "ax.set_yticklabels(y_percentage)\n",
    "\n",
    "ax.legend((rects1[0], rects2[0],rects3[0],rects4[0]), ('Precision', 'Recall','F1 Score','Total Accuracy'),loc = 1)\n",
    "\n",
    "ax.tick_params(axis='y', which='both', color='b')\n",
    "def autolabel(rects):\n",
    "    for rect in rects:\n",
    "        height = rect.get_height()\n",
    "        ax.text(rect.get_x() + rect.get_width()/2., 1.05*height,\n",
    "                '%d' % round(height),\n",
    "                ha='center', va='bottom')\n",
    "\n",
    "autolabel(rects1)\n",
    "autolabel(rects2)\n",
    "autolabel(rects3)\n",
    "\n",
    "autolabel(rects4)\n",
    "\n",
    "rows = ['Precision','Recall','F1 Score','Accuracy']\n",
    "columns = ['NN1', 'NN2', 'NN3']\n",
    "the_table = plt.table(cellText=cell_text_per,\n",
    "                      rowLabels=rows,\n",
    "                      cellLoc='center',\n",
    "                      colLabels=columns,\n",
    "                      loc='bottom')\n",
    "ax.spines['right'].set_visible(False)\n",
    "ax.spines['top'].set_visible(False)\n",
    "ax.xaxis.set_ticks_position('bottom')\n",
    "ax.yaxis.set_ticks_position('left')\n",
    "\n",
    "plt.xticks([])\n",
    "    \n",
    "plt.ylim([0.0, 100.0])\n",
    "plt.ylabel('Percentage')\n",
    "plt.title('NN_Result')\n",
    "# plt.show()\n",
    "plt.savefig(\"nn_Barplot.png\")"
   ]
  },
  {
   "cell_type": "code",
   "execution_count": null,
   "metadata": {
    "collapsed": true
   },
   "outputs": [],
   "source": []
  }
 ],
 "metadata": {
  "kernelspec": {
   "display_name": "Python 2",
   "language": "python",
   "name": "python2"
  },
  "language_info": {
   "codemirror_mode": {
    "name": "ipython",
    "version": 2
   },
   "file_extension": ".py",
   "mimetype": "text/x-python",
   "name": "python",
   "nbconvert_exporter": "python",
   "pygments_lexer": "ipython2",
   "version": "2.7.10"
  }
 },
 "nbformat": 4,
 "nbformat_minor": 2
}
