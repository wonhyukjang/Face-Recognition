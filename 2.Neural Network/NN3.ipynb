{
 "cells": [
  {
   "cell_type": "code",
   "execution_count": 3,
   "metadata": {},
   "outputs": [
    {
     "data": {
      "text/html": [
       "        <script type=\"text/javascript\">\n",
       "        window.PlotlyConfig = {MathJaxConfig: 'local'};\n",
       "        if (window.MathJax) {MathJax.Hub.Config({SVG: {font: \"STIX-Web\"}});}\n",
       "        if (typeof require !== 'undefined') {\n",
       "        require.undef(\"plotly\");\n",
       "        requirejs.config({\n",
       "            paths: {\n",
       "                'plotly': ['https://cdn.plot.ly/plotly-latest.min']\n",
       "            }\n",
       "        });\n",
       "        require(['plotly'], function(Plotly) {\n",
       "            window._Plotly = Plotly;\n",
       "        });\n",
       "        }\n",
       "        </script>\n",
       "        "
      ]
     },
     "metadata": {},
     "output_type": "display_data"
    }
   ],
   "source": [
    "import numpy as np # linear algebra\n",
    "import pandas as pd # data processing, CSV file I/O (e.g. pd.read_csv)\n",
    "\n",
    "import plotly.offline as py\n",
    "py.init_notebook_mode(connected=True)\n",
    "import plotly.graph_objs as go\n",
    "import plotly.tools as tls\n",
    "import seaborn as sns\n",
    "import matplotlib.image as mpimg\n",
    "import matplotlib.pyplot as plt\n",
    "import matplotlib\n",
    "%matplotlib inline\n"
   ]
  },
  {
   "cell_type": "code",
   "execution_count": 4,
   "metadata": {},
   "outputs": [],
   "source": [
    "def y2indicator(y):\n",
    "    N = len(y)\n",
    "    K = len(set(y))\n",
    "    ind = np.zeros((N, K))\n",
    "    for i in range(N):\n",
    "        ind[i, y[i]] = 1\n",
    "    return ind\n",
    "\n",
    "\n",
    "def getData(balance_ones=True):\n",
    "    # images are 48x48 size vectors\n",
    "    Y = []\n",
    "    X = []\n",
    "    first = True\n",
    "    for line in open('../fer2013/fer2013.csv'):\n",
    "        if first:\n",
    "            first = False\n",
    "        else:\n",
    "            row = line.split(',')\n",
    "            Y.append(int(row[0]))\n",
    "            X.append([int(p) for p in row[1].split()])\n",
    "\n",
    "    X, Y = np.array(X) / 255.0, np.array(Y)\n",
    "\n",
    "    if balance_ones:\n",
    "        # balance the 1 class\n",
    "        X0, Y0 = X[Y!=1, :], Y[Y!=1]\n",
    "        X1 = X[Y==1, :]\n",
    "        X1 = np.repeat(X1, 9, axis=0)\n",
    "        X = np.vstack([X0, X1])\n",
    "        Y = np.concatenate((Y0, [1]*len(X1)))\n",
    "    X, Y = shuffle(X, Y, random_state = 596)\n",
    "    return X, Y"
   ]
  },
  {
   "cell_type": "code",
   "execution_count": 5,
   "metadata": {},
   "outputs": [],
   "source": [
    "from sklearn.utils import shuffle\n",
    "\n",
    "X, Y = getData()\n",
    "X = X.astype(np.float32)\n",
    "X = X.astype(np.float32)\n",
    "Y = y2indicator(Y).astype(np.float32)\n",
    "\n"
   ]
  },
  {
   "cell_type": "code",
   "execution_count": 6,
   "metadata": {},
   "outputs": [],
   "source": [
    "def plot_images(images, cls_true, cls_pred=None):\n",
    "    assert len(images) == len(cls_true) == 9\n",
    "    \n",
    "    # Create figure with 3x3 sub-plots.\n",
    "    fig, axes = plt.subplots(3, 3)\n",
    "    fig.subplots_adjust(hspace=0.3, wspace=0.3)\n",
    "\n",
    "    for i, ax in enumerate(axes.flat):\n",
    "        # Plot image.\n",
    "        ax.imshow(images[i].reshape(img_shape), cmap='binary')\n",
    "\n",
    "        # Show true and predicted classes.\n",
    "        if cls_pred is None:\n",
    "            xlabel = \"True: {0}\".format(cls_true[i])\n",
    "        else:\n",
    "            xlabel = \"True: {0}, Pred: {1}\".format(cls_true[i], cls_pred[i])\n",
    "\n",
    "        # Show the classes as the label on the x-axis.\n",
    "        ax.set_xlabel(xlabel)\n",
    "        \n",
    "        # Remove ticks from the plot.\n",
    "        ax.set_xticks([])\n",
    "        ax.set_yticks([])\n",
    "    \n",
    "    # Ensure the plot is shown correctly with multiple plots\n",
    "    # in a single Notebook cell.\n",
    "    plt.show()"
   ]
  },
  {
   "cell_type": "code",
   "execution_count": 7,
   "metadata": {},
   "outputs": [],
   "source": [
    "Xtest, Ytest = X[:4000,], Y[:4000,]\n",
    "\n",
    "\n",
    "X, Y = X[4000:,], Y[4000:,]\n",
    "\n",
    "Ytest_flat = np.argmax(Ytest, axis=1) # for calculating error rate\n",
    "VALIDATION_SIZE = 2000\n",
    "\n",
    "validation_images = X[:VALIDATION_SIZE]\n",
    "validation_labels = Y[:VALIDATION_SIZE]\n",
    "\n",
    "train_images = X[VALIDATION_SIZE:]\n",
    "train_labels = Y[VALIDATION_SIZE:]"
   ]
  },
  {
   "cell_type": "code",
   "execution_count": 8,
   "metadata": {},
   "outputs": [
    {
     "data": {
      "text/plain": [
       "<matplotlib.axes._subplots.AxesSubplot at 0x125bb30a0>"
      ]
     },
     "execution_count": 8,
     "metadata": {},
     "output_type": "execute_result"
    },
    {
     "data": {
      "image/png": "[encoded data removed]",
      "text/plain": [
       "<Figure size 432x288 with 1 Axes>"
      ]
     },
     "metadata": {
      "needs_background": "light"
     },
     "output_type": "display_data"
    }
   ],
   "source": [
    "Ytrain_flat = np.argmax(Y, axis = 1)\n",
    "\n",
    "sns.countplot(Ytrain_flat)"
   ]
  },
  {
   "cell_type": "code",
   "execution_count": 9,
   "metadata": {},
   "outputs": [
    {
     "data": {
      "text/plain": [
       "36263"
      ]
     },
     "execution_count": 9,
     "metadata": {},
     "output_type": "execute_result"
    }
   ],
   "source": [
    "len(Y)"
   ]
  },
  {
   "cell_type": "code",
   "execution_count": 10,
   "metadata": {},
   "outputs": [
    {
     "data": {
      "text/plain": [
       "<matplotlib.axes._subplots.AxesSubplot at 0x125ecae50>"
      ]
     },
     "execution_count": 10,
     "metadata": {},
     "output_type": "execute_result"
    },
    {
     "data": {
      "image/png": "[encoded data removed]",
      "text/plain": [
       "<Figure size 432x288 with 1 Axes>"
      ]
     },
     "metadata": {
      "needs_background": "light"
     },
     "output_type": "display_data"
    }
   ],
   "source": [
    "import seaborn as sns\n",
    "sns.countplot(Ytest_flat)"
   ]
  },
  {
   "cell_type": "code",
   "execution_count": 11,
   "metadata": {},
   "outputs": [
    {
     "data": {
      "image/png": "[encoded data removed]",
      "text/plain": [
       "<Figure size 432x288 with 9 Axes>"
      ]
     },
     "metadata": {},
     "output_type": "display_data"
    }
   ],
   "source": [
    "img_size = 48\n",
    "img_shape = (img_size, img_size)\n",
    "\n",
    "\n",
    "\n",
    "label = ['Anger','Disgust','Fear','Happy','Sad','Surprise','Neutral']\n",
    "\n",
    "# Get the first images from the test-set.\n",
    "images = X[0:9]\n",
    "\n",
    "# Get the true classes for those images.\n",
    "# cls_true = Y[0:9]\n",
    "cls_true = []\n",
    "for x in Y[0:9]:\n",
    "    cls_true.append(label[np.argmax(x)])\n",
    "# Plot the images and labels using our helper-function above.\n",
    "plot_images(images=images, cls_true=cls_true)"
   ]
  },
  {
   "cell_type": "code",
   "execution_count": 26,
   "metadata": {},
   "outputs": [
    {
     "name": "stdout",
     "output_type": "stream",
     "text": [
      "TRAIN: [35974 27392 17612 ...  2177 11749 20962] TEST: [ 9371 10690 34058 ... 24323 23471 13743]\n"
     ]
    },
    {
     "name": "stderr",
     "output_type": "stream",
     "text": [
      "/Users/wonhyukjang/opt/anaconda3/envs/twitter/lib/python3.8/site-packages/sklearn/neural_network/_multilayer_perceptron.py:471: ConvergenceWarning:\n",
      "\n",
      "lbfgs failed to converge (status=1):\n",
      "STOP: TOTAL NO. of ITERATIONS REACHED LIMIT.\n",
      "\n",
      "Increase the number of iterations (max_iter) or scale the data as shown in:\n",
      "    https://scikit-learn.org/stable/modules/preprocessing.html\n",
      "\n"
     ]
    },
    {
     "name": "stdout",
     "output_type": "stream",
     "text": [
      "TRAIN: [16558 33669 22994 ... 10928 35381  7513] TEST: [ 1578 20750 30718 ... 12862 25534 12158]\n"
     ]
    },
    {
     "name": "stderr",
     "output_type": "stream",
     "text": [
      "/Users/wonhyukjang/opt/anaconda3/envs/twitter/lib/python3.8/site-packages/sklearn/neural_network/_multilayer_perceptron.py:471: ConvergenceWarning:\n",
      "\n",
      "lbfgs failed to converge (status=1):\n",
      "STOP: TOTAL NO. of ITERATIONS REACHED LIMIT.\n",
      "\n",
      "Increase the number of iterations (max_iter) or scale the data as shown in:\n",
      "    https://scikit-learn.org/stable/modules/preprocessing.html\n",
      "\n"
     ]
    }
   ],
   "source": [
    "from sklearn.model_selection import ShuffleSplit\n",
    "\n",
    "from sklearn.neural_network import MLPClassifier\n",
    "\n",
    "NN_clf2 = MLPClassifier(solver='lbfgs', alpha=1e-5, hidden_layer_sizes=(1024, ),\n",
    "                        activation='tanh', random_state=1)\n",
    "num_Iter = 10\n",
    "\n",
    "# 2. Cross Vaidation: Three folds with test size(20%)\n",
    "\n",
    "ss1 = ShuffleSplit(n_splits=2, test_size=0.2, random_state = 12345)\n",
    "train_predict = []\n",
    "test_predict = []\n",
    "\n",
    "# Save Real Test/Train Sentiment (Neutral/Non_Neutral)\n",
    "Y_test_act2 = []\n",
    "Y_train_act2 = []\n",
    "\n",
    "# Save Test/Train prediction\n",
    "test_prediction2 = []\n",
    "train_prediction2 = []\n",
    "\n",
    "# Save Train/Test index\n",
    "neutral_train_index = [] \n",
    "neutral_test_index = []\n",
    "\n",
    "\n",
    "num = 0\n",
    "\n",
    "for train_index, test_index in ss1.split(X):\n",
    "    \n",
    "    print(\"TRAIN:\", train_index, \"TEST:\", test_index)\n",
    "    \n",
    "    neutral_train_index.append(train_index)\n",
    "    neutral_test_index.append(test_index)\n",
    "    \n",
    "    # Split Test/Train X and Y\n",
    "    X_train, X_test = X[train_index], X[test_index]\n",
    "    Y_train, Y_test = Ytrain_flat[train_index], Ytrain_flat[test_index]\n",
    "   \n",
    "    # Warining: Don't change to matrix for logistic regression\n",
    "    X_train = X_train\n",
    "    X_test = X_test\n",
    "    \n",
    "    # Fit the Model\n",
    "    NN_clf2.fit(X_train, Y_train)\n",
    "    \n",
    "    # Apply the model to test set & train set\n",
    "    test_prediction2.append(NN_clf2.predict(X_test))\n",
    "    Y_test_act2.append(Y_test)   \n",
    "    \n",
    "    train_prediction2.append(NN_clf2.predict(X_train))\n",
    "    Y_train_act2.append(Y_train)\n",
    "    \n",
    "    train_predict.append(NN_clf2.predict(X))\n",
    "    test_predict.append(NN_clf2.predict(Xtest))  "
   ]
  },
  {
   "cell_type": "code",
   "execution_count": 29,
   "metadata": {},
   "outputs": [
    {
     "name": "stdout",
     "output_type": "stream",
     "text": [
      "[[ 180   77   92  245  142   65  125]\n",
      " [  34  656   41   42   25   13   43]\n",
      " [  93   51  171  223  173  109  134]\n",
      " [ 107   64  101 1022  126   64  162]\n",
      " [  96   55  111  248  277   54  206]\n",
      " [  35   34   83  110   50  335   71]\n",
      " [  91   69   91  245  162   70  380]]\n",
      "\n",
      "\n",
      "              precision    recall  f1-score   support\n",
      "\n",
      "           0   0.283019  0.194384  0.230474       926\n",
      "           1   0.652087  0.768150  0.705376       854\n",
      "           2   0.247826  0.179245  0.208029       954\n",
      "           3   0.478689  0.620899  0.540598      1646\n",
      "           4   0.290052  0.264565  0.276723      1047\n",
      "           5   0.471831  0.466574  0.469188       718\n",
      "           6   0.338983  0.342960  0.340960      1108\n",
      "\n",
      "    accuracy                       0.416517      7253\n",
      "   macro avg   0.394641  0.405254  0.395907      7253\n",
      "weighted avg   0.394507  0.416517  0.401004      7253\n",
      "\n",
      "7253\n",
      "0.416517303184889\n",
      "[[ 159   70   88  276  138   61  125]\n",
      " [  24  629   35   81   54   23   41]\n",
      " [  75   62  154  247  135  123  114]\n",
      " [  82   79   59 1085  130   49  147]\n",
      " [  97   69   97  279  312   61  190]\n",
      " [  34   30   78  125   41  352   68]\n",
      " [  59   62   79  272  141   75  387]]\n",
      "\n",
      "\n",
      "              precision    recall  f1-score   support\n",
      "\n",
      "           0   0.300000  0.173391  0.219765       917\n",
      "           1   0.628372  0.709132  0.666314       887\n",
      "           2   0.261017  0.169231  0.205333       910\n",
      "           3   0.458774  0.665236  0.543043      1631\n",
      "           4   0.328076  0.282353  0.303502      1105\n",
      "           5   0.473118  0.483516  0.478261       728\n",
      "           6   0.361007  0.360000  0.360503      1075\n",
      "\n",
      "    accuracy                       0.424376      7253\n",
      "   macro avg   0.401481  0.406123  0.396674      7253\n",
      "weighted avg   0.401667  0.424376  0.404824      7253\n",
      "\n",
      "7253\n",
      "0.4243761202261133\n"
     ]
    }
   ],
   "source": [
    "from sklearn.metrics import classification_report, confusion_matrix\n",
    "from sklearn.metrics import accuracy_score\n",
    "\n",
    "\n",
    "NN_accuracy_test_score = []\n",
    "for y, x in zip(Y_test_act2, test_prediction2):\n",
    "    print(confusion_matrix(y, x))\n",
    "    print('\\n')\n",
    "    print(classification_report(y, x, digits = 6))\n",
    "    print (len(Y_test))\n",
    "    print(accuracy_score(y, x))\n",
    "    NN_accuracy_test_score.append(accuracy_score(y, x))\n"
   ]
  },
  {
   "cell_type": "code",
   "execution_count": 30,
   "metadata": {},
   "outputs": [
    {
     "name": "stdout",
     "output_type": "stream",
     "text": [
      "[[ 937  253  291  840  518  220  473]\n",
      " [  94 2905  122  182   88   59  132]\n",
      " [ 276  237  989  740  566  408  442]\n",
      " [ 277  244  257 4444  517  215  454]\n",
      " [ 359  260  397  944 1590  190  707]\n",
      " [ 129  127  245  406  172 1590  259]\n",
      " [ 306  214  323 1003  553  220 1836]]\n",
      "\n",
      "\n",
      "              precision    recall  f1-score   support\n",
      "\n",
      "           0   0.394029  0.265289  0.317090      3532\n",
      "           1   0.685142  0.810999  0.742777      3582\n",
      "           2   0.376905  0.270366  0.314868      3658\n",
      "           3   0.519220  0.693508  0.593840      6408\n",
      "           4   0.397103  0.357544  0.376287      4447\n",
      "           5   0.547898  0.543033  0.545455      2928\n",
      "           6   0.426679  0.412121  0.419274      4455\n",
      "\n",
      "    accuracy                       0.492623     29010\n",
      "   macro avg   0.478139  0.478980  0.472798     29010\n",
      "weighted avg   0.476483  0.492623  0.478318     29010\n",
      "\n",
      "29010\n",
      "0.4926232333678042\n",
      "[[ 857  261  273  957  493  214  486]\n",
      " [  74 2857   92  250  120   50  106]\n",
      " [ 267  236  894  839  543  448  475]\n",
      " [ 233  213  235 4583  465  221  473]\n",
      " [ 312  263  325 1063 1474  204  748]\n",
      " [ 112  125  198  451  166 1582  284]\n",
      " [ 271  219  259 1083  538  256 1862]]\n",
      "\n",
      "\n",
      "              precision    recall  f1-score   support\n",
      "\n",
      "           0   0.403104  0.242022  0.302453      3541\n",
      "           1   0.684475  0.805015  0.739868      3549\n",
      "           2   0.392794  0.241491  0.299097      3702\n",
      "           3   0.496748  0.713530  0.585724      6423\n",
      "           4   0.387997  0.335840  0.360039      4389\n",
      "           5   0.531765  0.542152  0.536908      2918\n",
      "           6   0.419937  0.414884  0.417395      4488\n",
      "\n",
      "    accuracy                       0.486350     29010\n",
      "   macro avg   0.473832  0.470705  0.463069     29010\n",
      "weighted avg   0.470204  0.486350  0.468332     29010\n",
      "\n",
      "29010\n",
      "0.4863495346432265\n"
     ]
    }
   ],
   "source": [
    "NN_accuracy_train_score = []\n",
    "for y, x in zip(Y_train_act2, train_prediction2):\n",
    "    print(confusion_matrix(y, x))\n",
    "    print('\\n')\n",
    "    print(classification_report(y, x, digits = 6))\n",
    "    print (len(Y_train))\n",
    "    print(accuracy_score(y, x))\n",
    "    NN_accuracy_train_score.append(accuracy_score(y, x))"
   ]
  },
  {
   "cell_type": "code",
   "execution_count": 31,
   "metadata": {},
   "outputs": [],
   "source": [
    "best_test_arg = np.argmax(NN_accuracy_test_score)"
   ]
  },
  {
   "cell_type": "code",
   "execution_count": 32,
   "metadata": {},
   "outputs": [],
   "source": [
    "df_train = pd.DataFrame(train_predict[best_test_arg])\n",
    "df_test = pd.DataFrame(test_predict[best_test_arg])"
   ]
  },
  {
   "cell_type": "code",
   "execution_count": 33,
   "metadata": {},
   "outputs": [],
   "source": [
    "df_train.to_csv(\"NN_Train3.csv\")\n",
    "df_test.to_csv(\"NN_Test3.csv\")\n",
    "\n"
   ]
  },
  {
   "cell_type": "code",
   "execution_count": 34,
   "metadata": {},
   "outputs": [
    {
     "name": "stdout",
     "output_type": "stream",
     "text": [
      "[[ 75  32  45 162  72  28  81]\n",
      " [ 10 375  17  29  15   8  33]\n",
      " [ 43  35  84 123  85  68  71]\n",
      " [ 49  36  40 580  81  50  99]\n",
      " [ 54  36  52 152 155  24 110]\n",
      " [ 10  15  35  53  21 179  43]\n",
      " [ 41  38  45 187  89  33 202]]\n",
      "\n",
      "\n",
      "              precision    recall  f1-score   support\n",
      "\n",
      "           0   0.265957  0.151515  0.193050       495\n",
      "           1   0.661376  0.770021  0.711575       487\n",
      "           2   0.264151  0.165029  0.203144       509\n",
      "           3   0.451011  0.620321  0.522287       935\n",
      "           4   0.299228  0.265866  0.281562       583\n",
      "           5   0.458974  0.502809  0.479893       356\n",
      "           6   0.316119  0.318110  0.317111       635\n",
      "\n",
      "    accuracy                       0.412500      4000\n",
      "   macro avg   0.388117  0.399096  0.386946      4000\n",
      "weighted avg   0.387117  0.412500  0.392549      4000\n",
      "\n",
      "0.4125\n"
     ]
    }
   ],
   "source": [
    "print(confusion_matrix(Ytest_flat, test_predict[best_test_arg]))\n",
    "print('\\n')\n",
    "print(classification_report(Ytest_flat, test_predict[best_test_arg], digits = 6))\n",
    "print(accuracy_score(Ytest_flat, test_predict[best_test_arg]))\n",
    "NN_accuracy_test_score.append(accuracy_score(Ytest_flat, test_predict[best_test_arg]))"
   ]
  },
  {
   "cell_type": "code",
   "execution_count": 37,
   "metadata": {},
   "outputs": [
    {
     "name": "stdout",
     "output_type": "stream",
     "text": [
      "           precision  recall  f1-score  support\n",
      "0               0.27    0.15      0.19    495.0\n",
      "1               0.66    0.77      0.71    487.0\n",
      "2               0.26    0.17      0.20    509.0\n",
      "3               0.45    0.62      0.52    935.0\n",
      "4               0.30    0.27      0.28    583.0\n",
      "5               0.46    0.50      0.48    356.0\n",
      "6               0.32    0.32      0.32    635.0\n",
      "avg/total       0.39    0.40      0.39   4000.0\n"
     ]
    }
   ],
   "source": [
    "from sklearn.metrics import precision_recall_fscore_support\n",
    "clf_rep = precision_recall_fscore_support(Ytest_flat, test_predict[best_test_arg])\n",
    "out_dict = {\n",
    "             \"precision\" :clf_rep[0].round(2)\n",
    "            ,\"recall\" : clf_rep[1].round(2)\n",
    "            ,\"f1-score\" : clf_rep[2].round(2)\n",
    "            ,\"support\" : clf_rep[3]\n",
    "            }\n",
    "out_df = pd.DataFrame(out_dict, index = [0,1,2,3,4,5,6])\n",
    "avg_tot = (out_df.apply(lambda x: round(x.mean(), 2) if x.name!=\"support\" else  round(x.sum(), 2)).to_frame().T)\n",
    "avg_tot.index = [\"avg/total\"]\n",
    "out_df = out_df.append(avg_tot)\n",
    "print (out_df)"
   ]
  },
  {
   "cell_type": "code",
   "execution_count": 38,
   "metadata": {},
   "outputs": [],
   "source": [
    "out_df.to_csv('NN3_Precision.csv')"
   ]
  },
  {
   "cell_type": "code",
   "execution_count": null,
   "metadata": {
    "collapsed": true
   },
   "outputs": [],
   "source": []
  }
 ],
 "metadata": {
  "kernelspec": {
   "display_name": "twitter",
   "language": "python",
   "name": "twitter"
  },
  "language_info": {
   "codemirror_mode": {
    "name": "ipython",
    "version": 3
   },
   "file_extension": ".py",
   "mimetype": "text/x-python",
   "name": "python",
   "nbconvert_exporter": "python",
   "pygments_lexer": "ipython3",
   "version": "3.8.3"
  }
 },
 "nbformat": 4,
 "nbformat_minor": 2
}
