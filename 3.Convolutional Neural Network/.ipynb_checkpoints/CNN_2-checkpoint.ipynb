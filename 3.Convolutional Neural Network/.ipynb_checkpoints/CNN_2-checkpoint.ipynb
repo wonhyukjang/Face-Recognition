{
 "cells": [
  {
   "cell_type": "code",
   "execution_count": 1,
   "metadata": {
    "collapsed": true
   },
   "outputs": [],
   "source": [
    "import numpy as np\n",
    "import pandas as pd\n",
    "\n",
    "%matplotlib inline\n",
    "import matplotlib.pyplot as plt\n",
    "import matplotlib.cm as cm\n",
    "\n",
    "import tensorflow as tf\n",
    "from sklearn.utils import shuffle\n",
    "\n",
    "\n",
    "# settings\n",
    "LEARNING_RATE = 1e-4\n",
    "TRAINING_ITERATIONS = 15000\n",
    "\n",
    "# weights of this network are scaled-down versions of the trained weights\n",
    "DROPOUT = 0.5\n",
    "BATCH_SIZE = 50\n",
    "\n",
    "VALIDATION_SIZE = 2000\n",
    "\n",
    "# image number to output\n",
    "IMAGE_TO_DISPLAY = 10"
   ]
  },
  {
   "cell_type": "code",
   "execution_count": 2,
   "metadata": {
    "collapsed": true
   },
   "outputs": [],
   "source": [
    "data = pd.read_csv('/fer2013/fer2013.csv')"
   ]
  },
  {
   "cell_type": "code",
   "execution_count": 3,
   "metadata": {
    "collapsed": true
   },
   "outputs": [],
   "source": [
    "def y2indicator(y):\n",
    "    N = len(y)\n",
    "    K = len(set(y))\n",
    "    ind = np.zeros((N, K))\n",
    "    for i in range(N):\n",
    "        ind[i, y[i]] = 1\n",
    "    return ind\n",
    "\n",
    "\n",
    "def getData(balance_ones=True):\n",
    "    # images are 48x48 = 2304 vectors\n",
    "    Y = []\n",
    "    X = []\n",
    "    first = True\n",
    "    for line in open('/fer2013/fer2013.csv'):\n",
    "        if first:\n",
    "            first = False\n",
    "        else:\n",
    "            row = line.split(',')\n",
    "            Y.append(int(row[0]))\n",
    "            X.append([int(p) for p in row[1].split()])\n",
    "\n",
    "    X, Y = np.array(X) / 255.0, np.array(Y)\n",
    "\n",
    "    if balance_ones:\n",
    "        # balance the 1 class\n",
    "        X0, Y0 = X[Y!=1, :], Y[Y!=1]\n",
    "        X1 = X[Y==1, :]\n",
    "        X1 = np.repeat(X1, 9, axis=0)\n",
    "        X = np.vstack([X0, X1])\n",
    "        Y = np.concatenate((Y0, [1]*len(X1)))\n",
    "    X, Y = shuffle(X, Y, random_state = 596)\n",
    "\n",
    "\n",
    "    return X, Y"
   ]
  },
  {
   "cell_type": "code",
   "execution_count": 4,
   "metadata": {},
   "outputs": [],
   "source": [
    "X, Y = getData()\n",
    "X = X.astype(np.float32)\n",
    "X = X.astype(np.float32)\n",
    "Y = y2indicator(Y).astype(np.float32)\n"
   ]
  },
  {
   "cell_type": "code",
   "execution_count": 5,
   "metadata": {
    "collapsed": true
   },
   "outputs": [],
   "source": [
    "def plot_images(images, cls_true, cls_pred=None):\n",
    "    assert len(images) == len(cls_true) == 9\n",
    "    \n",
    "    # Create figure with 3x3 sub-plots.\n",
    "    fig, axes = plt.subplots(3, 3)\n",
    "    fig.subplots_adjust(hspace=0.3, wspace=0.3)\n",
    "\n",
    "    for i, ax in enumerate(axes.flat):\n",
    "        # Plot image.\n",
    "        ax.imshow(images[i].reshape(img_shape), cmap='binary')\n",
    "\n",
    "        # Show true and predicted classes.\n",
    "        if cls_pred is None:\n",
    "            xlabel = \"True: {0}\".format(cls_true[i])\n",
    "        else:\n",
    "            xlabel = \"True: {0}, Pred: {1}\".format(cls_true[i], cls_pred[i])\n",
    "\n",
    "        # Show the classes as the label on the x-axis.\n",
    "        ax.set_xlabel(xlabel)\n",
    "        \n",
    "        # Remove ticks from the plot.\n",
    "        ax.set_xticks([])\n",
    "        ax.set_yticks([])\n",
    "    \n",
    "    # Ensure the plot is shown correctly with multiple plots\n",
    "    # in a single Notebook cell.\n",
    "    plt.show()"
   ]
  },
  {
   "cell_type": "code",
   "execution_count": 6,
   "metadata": {},
   "outputs": [
    {
     "data": {
      "text/plain": [
       "40253"
      ]
     },
     "execution_count": 6,
     "metadata": {},
     "output_type": "execute_result"
    }
   ],
   "source": [
    "len(X[:-10,])"
   ]
  },
  {
   "cell_type": "code",
   "execution_count": 7,
   "metadata": {},
   "outputs": [
    {
     "data": {
      "text/plain": [
       "40253"
      ]
     },
     "execution_count": 7,
     "metadata": {},
     "output_type": "execute_result"
    }
   ],
   "source": [
    "len(Y[:-10,])"
   ]
  },
  {
   "cell_type": "code",
   "execution_count": 8,
   "metadata": {},
   "outputs": [],
   "source": [
    "Xtest, Ytest = X[:4000,], Y[:4000,]\n",
    "\n",
    "\n",
    "X, Y = X[4000:,], Y[4000:,]\n",
    "\n",
    "Ytest_flat = np.argmax(Ytest, axis=1) # for calculating error rate\n",
    "VALIDATION_SIZE = 2000\n",
    "\n",
    "validation_images = X[:VALIDATION_SIZE]\n",
    "validation_labels = Y[:VALIDATION_SIZE]\n",
    "\n",
    "train_images = X[VALIDATION_SIZE:]\n",
    "train_labels = Y[VALIDATION_SIZE:]"
   ]
  },
  {
   "cell_type": "code",
   "execution_count": 9,
   "metadata": {},
   "outputs": [
    {
     "data": {
      "text/plain": [
       "array([[ 0.,  0.,  0., ...,  0.,  0.,  0.],\n",
       "       [ 0.,  0.,  0., ...,  0.,  1.,  0.],\n",
       "       [ 0.,  0.,  0., ...,  0.,  0.,  1.],\n",
       "       ..., \n",
       "       [ 0.,  0.,  0., ...,  0.,  0.,  1.],\n",
       "       [ 0.,  0.,  1., ...,  0.,  0.,  0.],\n",
       "       [ 0.,  0.,  0., ...,  0.,  0.,  1.]], dtype=float32)"
      ]
     },
     "execution_count": 9,
     "metadata": {},
     "output_type": "execute_result"
    }
   ],
   "source": [
    "Ytest"
   ]
  },
  {
   "cell_type": "code",
   "execution_count": 10,
   "metadata": {},
   "outputs": [
    {
     "name": "stderr",
     "output_type": "stream",
     "text": [
      "/Library/Frameworks/Python.framework/Versions/3.5/lib/python3.5/site-packages/IPython/html.py:14: ShimWarning: The `IPython.html` package has been deprecated since IPython 4.0. You should import from `notebook` instead. `IPython.html.widgets` has moved to `ipywidgets`.\n",
      "  \"`IPython.html.widgets` has moved to `ipywidgets`.\", ShimWarning)\n"
     ]
    },
    {
     "data": {
      "text/plain": [
       "<matplotlib.axes._subplots.AxesSubplot at 0x105356c50>"
      ]
     },
     "execution_count": 10,
     "metadata": {},
     "output_type": "execute_result"
    },
    {
     "data": {
      "image/png": "[encoded data removed]",
      "text/plain": [
       "<matplotlib.figure.Figure at 0x1067cc518>"
      ]
     },
     "metadata": {},
     "output_type": "display_data"
    }
   ],
   "source": [
    "import seaborn as sns\n",
    "sns.countplot(Ytest_flat)"
   ]
  },
  {
   "cell_type": "code",
   "execution_count": 11,
   "metadata": {},
   "outputs": [
    {
     "data": {
      "text/plain": [
       "36263"
      ]
     },
     "execution_count": 11,
     "metadata": {},
     "output_type": "execute_result"
    }
   ],
   "source": [
    "len(Y)"
   ]
  },
  {
   "cell_type": "code",
   "execution_count": 12,
   "metadata": {},
   "outputs": [
    {
     "data": {
      "text/plain": [
       "array([[ 0.,  0.,  0., ...,  0.,  0.,  0.],\n",
       "       [ 0.,  0.,  0., ...,  0.,  1.,  0.],\n",
       "       [ 0.,  0.,  0., ...,  0.,  0.,  1.],\n",
       "       ..., \n",
       "       [ 0.,  0.,  0., ...,  0.,  0.,  1.],\n",
       "       [ 0.,  0.,  1., ...,  0.,  0.,  0.],\n",
       "       [ 0.,  0.,  0., ...,  0.,  0.,  1.]], dtype=float32)"
      ]
     },
     "execution_count": 12,
     "metadata": {},
     "output_type": "execute_result"
    }
   ],
   "source": [
    "Ytest"
   ]
  },
  {
   "cell_type": "code",
   "execution_count": 61,
   "metadata": {},
   "outputs": [
    {
     "data": {
      "image/png": "[encoded data removed]",
      "text/plain": [
       "<matplotlib.figure.Figure at 0x1053145c0>"
      ]
     },
     "metadata": {},
     "output_type": "display_data"
    }
   ],
   "source": [
    "img_size = 48\n",
    "img_shape = (img_size, img_size)\n",
    "\n",
    "\n",
    "\n",
    "label = ['Anger','Disgust','Fear','Happy','Sad','Surprise','Neutral']\n",
    "\n",
    "# Get the first images from the test-set.\n",
    "images = X[0:9]\n",
    "\n",
    "# Get the true classes for those images.\n",
    "# cls_true = Y[0:9]\n",
    "cls_true = []\n",
    "for x in Y[0:9]:\n",
    "    cls_true.append(label[np.argmax(x)])\n",
    "# Plot the images and labels using our helper-function above.\n",
    "plot_images(images=images, cls_true=cls_true)"
   ]
  },
  {
   "cell_type": "code",
   "execution_count": 14,
   "metadata": {},
   "outputs": [
    {
     "data": {
      "text/plain": [
       "<tensorflow.python.ops.variables.Variable at 0x1133d6630>"
      ]
     },
     "execution_count": 14,
     "metadata": {},
     "output_type": "execute_result"
    }
   ],
   "source": [
    "initial =  tf.truncated_normal((432,2),stddev= 0.1)\n",
    "tf.Variable(initial)"
   ]
  },
  {
   "cell_type": "code",
   "execution_count": 15,
   "metadata": {
    "collapsed": true
   },
   "outputs": [],
   "source": [
    "# weight initialization\n",
    "def weight_variable(shape):\n",
    "    initial = tf.truncated_normal(shape, stddev=0.1)\n",
    "    return tf.Variable(initial)\n",
    "\n",
    "def bias_variable(shape):\n",
    "    initial = tf.constant(0.1, shape=shape)\n",
    "    return tf.Variable(initial)"
   ]
  },
  {
   "cell_type": "code",
   "execution_count": 16,
   "metadata": {
    "collapsed": true
   },
   "outputs": [],
   "source": [
    "# convolution\n",
    "def conv2d(x, W):\n",
    "    return tf.nn.conv2d(x, W, strides=[1, 1, 1, 1], padding='SAME')"
   ]
  },
  {
   "cell_type": "code",
   "execution_count": 17,
   "metadata": {
    "collapsed": true
   },
   "outputs": [],
   "source": [
    "# pooling\n",
    "\n",
    "def max_pool_2x2(x):\n",
    "    return tf.nn.max_pool(x, ksize=[1, 2, 2, 1], strides=[1, 2, 2, 1], padding='SAME')"
   ]
  },
  {
   "cell_type": "code",
   "execution_count": 18,
   "metadata": {
    "collapsed": true
   },
   "outputs": [],
   "source": [
    "image_size = len(train_images[0])\n",
    "labels_count = len(train_labels[0])"
   ]
  },
  {
   "cell_type": "code",
   "execution_count": 19,
   "metadata": {},
   "outputs": [
    {
     "data": {
      "text/plain": [
       "2304"
      ]
     },
     "execution_count": 19,
     "metadata": {},
     "output_type": "execute_result"
    }
   ],
   "source": [
    "image_size"
   ]
  },
  {
   "cell_type": "code",
   "execution_count": 20,
   "metadata": {},
   "outputs": [
    {
     "data": {
      "text/plain": [
       "7"
      ]
     },
     "execution_count": 20,
     "metadata": {},
     "output_type": "execute_result"
    }
   ],
   "source": [
    "labels_count"
   ]
  },
  {
   "cell_type": "code",
   "execution_count": 21,
   "metadata": {
    "collapsed": true
   },
   "outputs": [],
   "source": [
    "# input & output of NN\n",
    "\n",
    "# images\n",
    "x = tf.placeholder('float', shape=[None, image_size])\n",
    "# labels\n",
    "y_ = tf.placeholder('float', shape=[None, labels_count])"
   ]
  },
  {
   "cell_type": "code",
   "execution_count": 22,
   "metadata": {},
   "outputs": [
    {
     "data": {
      "text/plain": [
       "<tf.Tensor 'Placeholder:0' shape=(?, 2304) dtype=float32>"
      ]
     },
     "execution_count": 22,
     "metadata": {},
     "output_type": "execute_result"
    }
   ],
   "source": [
    "x"
   ]
  },
  {
   "cell_type": "code",
   "execution_count": 23,
   "metadata": {},
   "outputs": [
    {
     "data": {
      "text/plain": [
       "<tf.Tensor 'Placeholder_1:0' shape=(?, 7) dtype=float32>"
      ]
     },
     "execution_count": 23,
     "metadata": {},
     "output_type": "execute_result"
    }
   ],
   "source": [
    "y_"
   ]
  },
  {
   "cell_type": "code",
   "execution_count": 24,
   "metadata": {
    "collapsed": true
   },
   "outputs": [],
   "source": [
    "# first convolutional layer\n",
    "W_conv1 = weight_variable([5, 5, 1, 32])\n",
    "b_conv1 = bias_variable([32])"
   ]
  },
  {
   "cell_type": "code",
   "execution_count": 25,
   "metadata": {
    "collapsed": true
   },
   "outputs": [],
   "source": [
    "image_width = image_height = np.ceil(np.sqrt(image_size)).astype(np.uint8)"
   ]
  },
  {
   "cell_type": "code",
   "execution_count": 26,
   "metadata": {},
   "outputs": [
    {
     "data": {
      "text/plain": [
       "48"
      ]
     },
     "execution_count": 26,
     "metadata": {},
     "output_type": "execute_result"
    }
   ],
   "source": [
    "image_width"
   ]
  },
  {
   "cell_type": "code",
   "execution_count": 27,
   "metadata": {},
   "outputs": [
    {
     "name": "stdout",
     "output_type": "stream",
     "text": [
      "(?, 48, 48, 1)\n",
      "(?, 48, 48, 32)\n",
      "(?, 24, 24, 32)\n"
     ]
    }
   ],
   "source": [
    "# first convolutional layer\n",
    "W_conv1 = weight_variable([5, 5, 1, 32])\n",
    "b_conv1 = bias_variable([32])\n",
    "\n",
    "# (40000,784) => (40000,48,48,1)\n",
    "image = tf.reshape(x, [-1,image_width , image_height,1])\n",
    "print (image.get_shape()) # =>(40000,48,48,1)\n",
    "\n",
    "\n",
    "h_conv1 = tf.nn.relu(conv2d(image, W_conv1) + b_conv1)\n",
    "print (h_conv1.get_shape()) # => (40000, 48, 48, 32)\n",
    "h_pool1 = max_pool_2x2(h_conv1)\n",
    "print (h_pool1.get_shape()) # => (40000, 24, 24, 32)\n",
    "\n",
    "\n",
    "# Prepare for visualization\n",
    "# display 32 fetures in 4 by 8 grid\n",
    "layer1 = tf.reshape(h_conv1, (-1, image_height, image_width, 4 ,8))  \n",
    "\n",
    "# reorder so the channels are in the first dimension, x and y follow.\n",
    "layer1 = tf.transpose(layer1, (0, 3, 1, 4,2))\n",
    "\n",
    "layer1 = tf.reshape(layer1, (-1, image_height*4, image_width*8)) "
   ]
  },
  {
   "cell_type": "code",
   "execution_count": 28,
   "metadata": {},
   "outputs": [
    {
     "name": "stdout",
     "output_type": "stream",
     "text": [
      "(?, 24, 24, 64)\n",
      "(?, 12, 12, 64)\n"
     ]
    }
   ],
   "source": [
    "# second convolutional layer\n",
    "W_conv2 = weight_variable([5, 5, 32, 64])\n",
    "b_conv2 = bias_variable([64])\n",
    "\n",
    "h_conv2 = tf.nn.relu(conv2d(h_pool1, W_conv2) + b_conv2)\n",
    "print (h_conv2.get_shape()) # => (40000, 24,24, 64)\n",
    "h_pool2 = max_pool_2x2(h_conv2)\n",
    "print (h_pool2.get_shape()) # => (40000, 12, 12, 64)\n",
    "\n",
    "# Prepare for visualization\n",
    "# display 64 fetures in 4 by 16 grid\n",
    "layer2 = tf.reshape(h_conv2, (-1, 14, 14, 4 ,16))  \n",
    "\n",
    "# reorder so the channels are in the first dimension, x and y follow.\n",
    "layer2 = tf.transpose(layer2, (0, 3, 1, 4,2))\n",
    "\n",
    "layer2 = tf.reshape(layer2, (-1, 14*4, 14*16)) "
   ]
  },
  {
   "cell_type": "code",
   "execution_count": 29,
   "metadata": {
    "collapsed": true
   },
   "outputs": [],
   "source": [
    "# densely connected layer\n",
    "W_fc1 = weight_variable([12 * 12 * 64, 1024])\n",
    "b_fc1 = bias_variable([1024])\n",
    "\n",
    "h_pool2_flat = tf.reshape(h_pool2, [-1, 12*12*64])\n",
    "\n",
    "h_fc1 = tf.nn.sigmoid(tf.matmul(h_pool2_flat, W_fc1) + b_fc1)"
   ]
  },
  {
   "cell_type": "code",
   "execution_count": 30,
   "metadata": {
    "collapsed": true
   },
   "outputs": [],
   "source": [
    "# dropout\n",
    "keep_prob = tf.placeholder('float')\n",
    "h_fc1_drop = tf.nn.dropout(h_fc1, keep_prob)"
   ]
  },
  {
   "cell_type": "code",
   "execution_count": 31,
   "metadata": {},
   "outputs": [
    {
     "name": "stdout",
     "output_type": "stream",
     "text": [
      "(?, 7)\n"
     ]
    }
   ],
   "source": [
    "# readout layer for deep net\n",
    "W_fc2 = weight_variable([1024, labels_count])\n",
    "b_fc2 = bias_variable([labels_count])\n",
    "\n",
    "y = tf.nn.softmax(tf.matmul(h_fc1_drop, W_fc2) + b_fc2)\n",
    "\n",
    "print (y.get_shape()) # => (40000, 7)"
   ]
  },
  {
   "cell_type": "code",
   "execution_count": 32,
   "metadata": {
    "collapsed": true
   },
   "outputs": [],
   "source": [
    "# cost function\n",
    "cross_entropy = -tf.reduce_sum(y_*tf.log(y))\n",
    "\n",
    "# optimisation function\n",
    "train_step = tf.train.AdamOptimizer(LEARNING_RATE).minimize(cross_entropy)\n",
    "\n",
    "# evaluation\n",
    "correct_prediction = tf.equal(tf.argmax(y,1), tf.argmax(y_,1))\n",
    "\n",
    "accuracy = tf.reduce_mean(tf.cast(correct_prediction, 'float'))"
   ]
  },
  {
   "cell_type": "code",
   "execution_count": 33,
   "metadata": {
    "collapsed": true
   },
   "outputs": [],
   "source": [
    "# prediction function\n",
    "predict = tf.argmax(y,1)"
   ]
  },
  {
   "cell_type": "code",
   "execution_count": 34,
   "metadata": {
    "collapsed": true
   },
   "outputs": [],
   "source": [
    "epochs_completed = 0\n",
    "index_in_epoch = 0\n",
    "num_examples = train_images.shape[0]\n",
    "\n",
    "# serve data by batches\n",
    "def next_batch(batch_size):\n",
    "    \n",
    "    global train_images\n",
    "    global train_labels\n",
    "    global index_in_epoch\n",
    "    global epochs_completed\n",
    "    \n",
    "    start = index_in_epoch\n",
    "    index_in_epoch += batch_size\n",
    "    \n",
    "    # when all trainig data have been already used, it is reorder randomly    \n",
    "    if index_in_epoch > num_examples:\n",
    "        # finished epoch\n",
    "        epochs_completed += 1\n",
    "        # shuffle the data\n",
    "        perm = np.arange(num_examples)\n",
    "        np.random.shuffle(perm)\n",
    "        train_images = train_images[perm]\n",
    "        train_labels = train_labels[perm]\n",
    "        # start next epoch\n",
    "        start = 0\n",
    "        index_in_epoch = batch_size\n",
    "        assert batch_size <= num_examples\n",
    "    end = index_in_epoch\n",
    "    return train_images[start:end], train_labels[start:end]"
   ]
  },
  {
   "cell_type": "code",
   "execution_count": 35,
   "metadata": {},
   "outputs": [],
   "source": [
    "# start TensorFlow session\n",
    "init = tf.global_variables_initializer()\n",
    "sess = tf.InteractiveSession()\n",
    "\n",
    "sess.run(init)"
   ]
  },
  {
   "cell_type": "code",
   "execution_count": 36,
   "metadata": {},
   "outputs": [
    {
     "name": "stdout",
     "output_type": "stream",
     "text": [
      "training_accuracy / validation_accuracy => 0.12 / 0.12 for step 0\n",
      "training_accuracy / validation_accuracy => 0.20 / 0.20 for step 100\n",
      "training_accuracy / validation_accuracy => 0.36 / 0.24 for step 200\n",
      "training_accuracy / validation_accuracy => 0.26 / 0.24 for step 300\n",
      "training_accuracy / validation_accuracy => 0.24 / 0.22 for step 400\n",
      "training_accuracy / validation_accuracy => 0.22 / 0.24 for step 500\n",
      "training_accuracy / validation_accuracy => 0.30 / 0.28 for step 600\n",
      "training_accuracy / validation_accuracy => 0.32 / 0.28 for step 700\n",
      "training_accuracy / validation_accuracy => 0.40 / 0.32 for step 800\n",
      "training_accuracy / validation_accuracy => 0.38 / 0.32 for step 900\n",
      "training_accuracy / validation_accuracy => 0.32 / 0.32 for step 1000\n",
      "training_accuracy / validation_accuracy => 0.42 / 0.30 for step 1100\n",
      "training_accuracy / validation_accuracy => 0.44 / 0.32 for step 1200\n",
      "training_accuracy / validation_accuracy => 0.30 / 0.32 for step 1300\n",
      "training_accuracy / validation_accuracy => 0.30 / 0.36 for step 1400\n",
      "training_accuracy / validation_accuracy => 0.46 / 0.38 for step 1500\n",
      "training_accuracy / validation_accuracy => 0.42 / 0.40 for step 1600\n",
      "training_accuracy / validation_accuracy => 0.36 / 0.42 for step 1700\n",
      "training_accuracy / validation_accuracy => 0.32 / 0.40 for step 1800\n",
      "training_accuracy / validation_accuracy => 0.54 / 0.38 for step 1900\n",
      "training_accuracy / validation_accuracy => 0.32 / 0.40 for step 2000\n",
      "training_accuracy / validation_accuracy => 0.34 / 0.40 for step 2100\n",
      "training_accuracy / validation_accuracy => 0.44 / 0.46 for step 2200\n",
      "training_accuracy / validation_accuracy => 0.56 / 0.46 for step 2300\n",
      "training_accuracy / validation_accuracy => 0.38 / 0.42 for step 2400\n",
      "training_accuracy / validation_accuracy => 0.46 / 0.38 for step 2500\n",
      "training_accuracy / validation_accuracy => 0.50 / 0.42 for step 2600\n",
      "training_accuracy / validation_accuracy => 0.40 / 0.48 for step 2700\n",
      "training_accuracy / validation_accuracy => 0.68 / 0.44 for step 2800\n",
      "training_accuracy / validation_accuracy => 0.36 / 0.42 for step 2900\n",
      "training_accuracy / validation_accuracy => 0.36 / 0.44 for step 3000\n",
      "training_accuracy / validation_accuracy => 0.46 / 0.42 for step 3100\n",
      "training_accuracy / validation_accuracy => 0.42 / 0.52 for step 3200\n",
      "training_accuracy / validation_accuracy => 0.66 / 0.50 for step 3300\n",
      "training_accuracy / validation_accuracy => 0.42 / 0.54 for step 3400\n",
      "training_accuracy / validation_accuracy => 0.44 / 0.48 for step 3500\n",
      "training_accuracy / validation_accuracy => 0.56 / 0.52 for step 3600\n",
      "training_accuracy / validation_accuracy => 0.52 / 0.60 for step 3700\n",
      "training_accuracy / validation_accuracy => 0.58 / 0.52 for step 3800\n",
      "training_accuracy / validation_accuracy => 0.50 / 0.52 for step 3900\n",
      "training_accuracy / validation_accuracy => 0.46 / 0.54 for step 4000\n",
      "training_accuracy / validation_accuracy => 0.54 / 0.52 for step 4100\n",
      "training_accuracy / validation_accuracy => 0.62 / 0.56 for step 4200\n",
      "training_accuracy / validation_accuracy => 0.64 / 0.52 for step 4300\n",
      "training_accuracy / validation_accuracy => 0.60 / 0.52 for step 4400\n",
      "training_accuracy / validation_accuracy => 0.52 / 0.56 for step 4500\n",
      "training_accuracy / validation_accuracy => 0.62 / 0.58 for step 4600\n",
      "training_accuracy / validation_accuracy => 0.42 / 0.60 for step 4700\n",
      "training_accuracy / validation_accuracy => 0.54 / 0.52 for step 4800\n",
      "training_accuracy / validation_accuracy => 0.62 / 0.58 for step 4900\n",
      "training_accuracy / validation_accuracy => 0.60 / 0.60 for step 5000\n",
      "training_accuracy / validation_accuracy => 0.52 / 0.60 for step 5100\n",
      "training_accuracy / validation_accuracy => 0.60 / 0.58 for step 5200\n",
      "training_accuracy / validation_accuracy => 0.54 / 0.62 for step 5300\n",
      "training_accuracy / validation_accuracy => 0.64 / 0.62 for step 5400\n",
      "training_accuracy / validation_accuracy => 0.62 / 0.54 for step 5500\n",
      "training_accuracy / validation_accuracy => 0.52 / 0.60 for step 5600\n",
      "training_accuracy / validation_accuracy => 0.66 / 0.60 for step 5700\n",
      "training_accuracy / validation_accuracy => 0.50 / 0.62 for step 5800\n",
      "training_accuracy / validation_accuracy => 0.54 / 0.62 for step 5900\n",
      "training_accuracy / validation_accuracy => 0.52 / 0.60 for step 6000\n",
      "training_accuracy / validation_accuracy => 0.54 / 0.60 for step 6100\n",
      "training_accuracy / validation_accuracy => 0.74 / 0.56 for step 6200\n",
      "training_accuracy / validation_accuracy => 0.72 / 0.58 for step 6300\n",
      "training_accuracy / validation_accuracy => 0.66 / 0.60 for step 6400\n",
      "training_accuracy / validation_accuracy => 0.68 / 0.64 for step 6500\n",
      "training_accuracy / validation_accuracy => 0.66 / 0.60 for step 6600\n",
      "training_accuracy / validation_accuracy => 0.70 / 0.62 for step 6700\n",
      "training_accuracy / validation_accuracy => 0.60 / 0.60 for step 6800\n",
      "training_accuracy / validation_accuracy => 0.64 / 0.60 for step 6900\n",
      "training_accuracy / validation_accuracy => 0.62 / 0.62 for step 7000\n",
      "training_accuracy / validation_accuracy => 0.70 / 0.60 for step 7100\n",
      "training_accuracy / validation_accuracy => 0.68 / 0.58 for step 7200\n",
      "training_accuracy / validation_accuracy => 0.64 / 0.62 for step 7300\n",
      "training_accuracy / validation_accuracy => 0.60 / 0.64 for step 7400\n",
      "training_accuracy / validation_accuracy => 0.56 / 0.56 for step 7500\n",
      "training_accuracy / validation_accuracy => 0.62 / 0.60 for step 7600\n",
      "training_accuracy / validation_accuracy => 0.74 / 0.60 for step 7700\n",
      "training_accuracy / validation_accuracy => 0.66 / 0.60 for step 7800\n",
      "training_accuracy / validation_accuracy => 0.68 / 0.62 for step 7900\n",
      "training_accuracy / validation_accuracy => 0.62 / 0.62 for step 8000\n",
      "training_accuracy / validation_accuracy => 0.66 / 0.64 for step 8100\n",
      "training_accuracy / validation_accuracy => 0.74 / 0.58 for step 8200\n",
      "training_accuracy / validation_accuracy => 0.70 / 0.56 for step 8300\n",
      "training_accuracy / validation_accuracy => 0.78 / 0.58 for step 8400\n",
      "training_accuracy / validation_accuracy => 0.64 / 0.62 for step 8500\n",
      "training_accuracy / validation_accuracy => 0.60 / 0.60 for step 8600\n",
      "training_accuracy / validation_accuracy => 0.62 / 0.64 for step 8700\n",
      "training_accuracy / validation_accuracy => 0.68 / 0.62 for step 8800\n",
      "training_accuracy / validation_accuracy => 0.64 / 0.62 for step 8900\n",
      "training_accuracy / validation_accuracy => 0.64 / 0.64 for step 9000\n",
      "training_accuracy / validation_accuracy => 0.68 / 0.60 for step 9100\n",
      "training_accuracy / validation_accuracy => 0.80 / 0.66 for step 9200\n",
      "training_accuracy / validation_accuracy => 0.74 / 0.62 for step 9300\n",
      "training_accuracy / validation_accuracy => 0.64 / 0.60 for step 9400\n",
      "training_accuracy / validation_accuracy => 0.70 / 0.62 for step 9500\n",
      "training_accuracy / validation_accuracy => 0.66 / 0.60 for step 9600\n",
      "training_accuracy / validation_accuracy => 0.92 / 0.64 for step 9700\n",
      "training_accuracy / validation_accuracy => 0.72 / 0.68 for step 9800\n",
      "training_accuracy / validation_accuracy => 0.78 / 0.62 for step 9900\n",
      "training_accuracy / validation_accuracy => 0.70 / 0.66 for step 10000\n",
      "training_accuracy / validation_accuracy => 0.74 / 0.62 for step 10100\n",
      "training_accuracy / validation_accuracy => 0.80 / 0.60 for step 10200\n",
      "training_accuracy / validation_accuracy => 0.68 / 0.56 for step 10300\n",
      "training_accuracy / validation_accuracy => 0.80 / 0.64 for step 10400\n",
      "training_accuracy / validation_accuracy => 0.72 / 0.64 for step 10500\n",
      "training_accuracy / validation_accuracy => 0.70 / 0.66 for step 10600\n",
      "training_accuracy / validation_accuracy => 0.82 / 0.62 for step 10700\n",
      "training_accuracy / validation_accuracy => 0.80 / 0.68 for step 10800\n",
      "training_accuracy / validation_accuracy => 0.80 / 0.64 for step 10900\n",
      "training_accuracy / validation_accuracy => 0.76 / 0.58 for step 11000\n",
      "training_accuracy / validation_accuracy => 0.66 / 0.66 for step 11100\n",
      "training_accuracy / validation_accuracy => 0.76 / 0.68 for step 11200\n",
      "training_accuracy / validation_accuracy => 0.76 / 0.64 for step 11300\n",
      "training_accuracy / validation_accuracy => 0.76 / 0.66 for step 11400\n",
      "training_accuracy / validation_accuracy => 0.76 / 0.68 for step 11500\n",
      "training_accuracy / validation_accuracy => 0.66 / 0.66 for step 11600\n",
      "training_accuracy / validation_accuracy => 0.78 / 0.64 for step 11700\n",
      "training_accuracy / validation_accuracy => 0.84 / 0.66 for step 11800\n",
      "training_accuracy / validation_accuracy => 0.76 / 0.68 for step 11900\n",
      "training_accuracy / validation_accuracy => 0.80 / 0.66 for step 12000\n",
      "training_accuracy / validation_accuracy => 0.72 / 0.68 for step 12100\n",
      "training_accuracy / validation_accuracy => 0.72 / 0.64 for step 12200\n",
      "training_accuracy / validation_accuracy => 0.74 / 0.64 for step 12300\n",
      "training_accuracy / validation_accuracy => 0.74 / 0.60 for step 12400\n",
      "training_accuracy / validation_accuracy => 0.80 / 0.64 for step 12500\n",
      "training_accuracy / validation_accuracy => 0.86 / 0.68 for step 12600\n",
      "training_accuracy / validation_accuracy => 0.84 / 0.64 for step 12700\n",
      "training_accuracy / validation_accuracy => 0.74 / 0.60 for step 12800\n",
      "training_accuracy / validation_accuracy => 0.68 / 0.68 for step 12900\n",
      "training_accuracy / validation_accuracy => 0.82 / 0.62 for step 13000\n",
      "training_accuracy / validation_accuracy => 0.84 / 0.60 for step 13100\n",
      "training_accuracy / validation_accuracy => 0.76 / 0.62 for step 13200\n",
      "training_accuracy / validation_accuracy => 0.90 / 0.58 for step 13300\n",
      "training_accuracy / validation_accuracy => 0.84 / 0.68 for step 13400\n",
      "training_accuracy / validation_accuracy => 0.74 / 0.62 for step 13500\n",
      "training_accuracy / validation_accuracy => 0.78 / 0.64 for step 13600\n",
      "training_accuracy / validation_accuracy => 0.88 / 0.64 for step 13700\n",
      "training_accuracy / validation_accuracy => 0.86 / 0.66 for step 13800\n",
      "training_accuracy / validation_accuracy => 0.72 / 0.64 for step 13900\n",
      "training_accuracy / validation_accuracy => 0.90 / 0.64 for step 14000\n",
      "training_accuracy / validation_accuracy => 0.86 / 0.66 for step 14100\n",
      "training_accuracy / validation_accuracy => 0.84 / 0.70 for step 14200\n",
      "training_accuracy / validation_accuracy => 0.76 / 0.66 for step 14300\n",
      "training_accuracy / validation_accuracy => 0.82 / 0.66 for step 14400\n",
      "training_accuracy / validation_accuracy => 0.94 / 0.64 for step 14500\n",
      "training_accuracy / validation_accuracy => 0.88 / 0.66 for step 14600\n",
      "training_accuracy / validation_accuracy => 0.86 / 0.68 for step 14700\n",
      "training_accuracy / validation_accuracy => 0.80 / 0.68 for step 14800\n",
      "training_accuracy / validation_accuracy => 0.76 / 0.66 for step 14900\n",
      "training_accuracy / validation_accuracy => 0.90 / 0.64 for step 14999\n"
     ]
    }
   ],
   "source": [
    "# visualisation variables\n",
    "train_accuracies = []\n",
    "validation_accuracies = []\n",
    "x_range = []\n",
    "\n",
    "display_step=100\n",
    "\n",
    "for i in range(TRAINING_ITERATIONS):\n",
    "\n",
    "    #get new batch\n",
    "    batch_xs, batch_ys = next_batch(BATCH_SIZE)        \n",
    "\n",
    "    # check progress on every 1st,2nd,...,10th,20th,...,100th... step\n",
    "    if i%display_step == 0 or (i+1) == TRAINING_ITERATIONS:\n",
    "        \n",
    "        train_accuracy = accuracy.eval(feed_dict={x:batch_xs, \n",
    "                                                  y_: batch_ys, \n",
    "                                                  keep_prob: 1.0})       \n",
    "        if(VALIDATION_SIZE):\n",
    "            validation_accuracy = accuracy.eval(feed_dict={ x: validation_images[0:BATCH_SIZE], \n",
    "                                                            y_: validation_labels[0:BATCH_SIZE], \n",
    "                                                            keep_prob: 1.0})                                  \n",
    "            print('training_accuracy / validation_accuracy => %.2f / %.2f for step %d'%(train_accuracy, validation_accuracy, i))\n",
    "            \n",
    "            validation_accuracies.append(validation_accuracy)\n",
    "            \n",
    "        else:\n",
    "             print('training_accuracy => %.4f for step %d'%(train_accuracy, i))\n",
    "        train_accuracies.append(train_accuracy)\n",
    "        x_range.append(i)\n",
    "        \n",
    "    # train on batch\n",
    "    sess.run(train_step, feed_dict={x: batch_xs, y_: batch_ys, keep_prob: DROPOUT})"
   ]
  },
  {
   "cell_type": "code",
   "execution_count": 37,
   "metadata": {},
   "outputs": [
    {
     "name": "stdout",
     "output_type": "stream",
     "text": [
      "validation_accuracy => 0.5895\n"
     ]
    },
    {
     "data": {
      "image/png": "[encoded data removed]",
      "text/plain": [
       "<matplotlib.figure.Figure at 0x1052e6f60>"
      ]
     },
     "metadata": {},
     "output_type": "display_data"
    }
   ],
   "source": [
    "# check final accuracy on validation set  \n",
    "if(VALIDATION_SIZE):\n",
    "    validation_accuracy = accuracy.eval(feed_dict={x: validation_images, \n",
    "                                                   y_: validation_labels, \n",
    "                                                   keep_prob: 1.0})\n",
    "    print('validation_accuracy => %.4f'%validation_accuracy)\n",
    "    plt.plot(x_range, train_accuracies,'-b', label='Training')\n",
    "    plt.plot(x_range, validation_accuracies,'-g', label='Validation')\n",
    "    plt.legend(loc='lower right', frameon=False)\n",
    "    plt.ylim(ymax = 1.1, ymin = 0.0)\n",
    "    plt.ylabel('accuracy')\n",
    "    plt.xlabel('step')\n",
    "    plt.show()"
   ]
  },
  {
   "cell_type": "code",
   "execution_count": 38,
   "metadata": {},
   "outputs": [
    {
     "data": {
      "text/plain": [
       "array([[ 0.95686275,  0.92941177,  0.86666667, ...,  0.27450982,\n",
       "         0.47450981,  0.47843137],\n",
       "       [ 0.09019608,  0.11372549,  0.11764706, ...,  0.07058824,\n",
       "         0.0627451 ,  0.05882353],\n",
       "       [ 1.        ,  0.99215686,  1.        , ...,  0.08235294,\n",
       "         0.07843138,  0.0627451 ],\n",
       "       ..., \n",
       "       [ 0.50980395,  0.39215687,  0.26274511, ...,  0.18431373,\n",
       "         0.23137255,  0.28627452],\n",
       "       [ 0.51372552,  0.50196081,  0.67058825, ...,  0.69803923,\n",
       "         0.65490198,  0.63529414],\n",
       "       [ 0.25098041,  0.25098041,  0.24313726, ...,  0.17254902,\n",
       "         0.14117648,  0.15294118]], dtype=float32)"
      ]
     },
     "execution_count": 38,
     "metadata": {},
     "output_type": "execute_result"
    }
   ],
   "source": [
    "Xtest"
   ]
  },
  {
   "cell_type": "code",
   "execution_count": 39,
   "metadata": {
    "scrolled": true
   },
   "outputs": [
    {
     "name": "stdout",
     "output_type": "stream",
     "text": [
      "train_images(36263,2304)\n",
      "predicted_lables(36263)\n",
      "predicted_lables[10] => 5.0\n"
     ]
    }
   ],
   "source": [
    "train_images = X.astype(np.float)\n",
    "\n",
    "# convert from [0:255] => [0.0:1.0]\n",
    "\n",
    "print('train_images({0[0]},{0[1]})'.format(train_images.shape))\n",
    "\n",
    "\n",
    "# predict train set\n",
    "\n",
    "# using batches is more resource efficient\n",
    "predicted_lables = np.zeros(train_images.shape[0])\n",
    "for i in range(0,train_images.shape[0]//BATCH_SIZE):\n",
    "    predicted_lables[i*BATCH_SIZE : (i+1)*BATCH_SIZE] = predict.eval(feed_dict={x: train_images[i*BATCH_SIZE : (i+1)*BATCH_SIZE], \n",
    "                                                                                keep_prob: 1.0})\n",
    "\n",
    "\n",
    "print('predicted_lables({0})'.format(len(predicted_lables)))\n",
    "\n",
    "# output test image and prediction\n",
    "# display(test_images[IMAGE_TO_DISPLAY])\n",
    "print ('predicted_lables[{0}] => {1}'.format(IMAGE_TO_DISPLAY,predicted_lables[IMAGE_TO_DISPLAY]))\n",
    "\n"
   ]
  },
  {
   "cell_type": "code",
   "execution_count": 40,
   "metadata": {
    "collapsed": true
   },
   "outputs": [],
   "source": [
    "# save results\n",
    "np.savetxt('submission_train_softmax2.csv', \n",
    "           np.c_[range(1,len(train_images)+1),predicted_lables], \n",
    "           delimiter=',', \n",
    "           header = 'ImageId,Label', \n",
    "           comments = '', \n",
    "           fmt='%d')"
   ]
  },
  {
   "cell_type": "code",
   "execution_count": 41,
   "metadata": {},
   "outputs": [
    {
     "data": {
      "text/plain": [
       "36263"
      ]
     },
     "execution_count": 41,
     "metadata": {},
     "output_type": "execute_result"
    }
   ],
   "source": [
    "len(predicted_lables)"
   ]
  },
  {
   "cell_type": "code",
   "execution_count": 42,
   "metadata": {},
   "outputs": [
    {
     "data": {
      "text/plain": [
       "<matplotlib.axes._subplots.AxesSubplot at 0x106446780>"
      ]
     },
     "execution_count": 42,
     "metadata": {},
     "output_type": "execute_result"
    },
    {
     "data": {
      "image/png": "[encoded data removed]",
      "text/plain": [
       "<matplotlib.figure.Figure at 0x114870fd0>"
      ]
     },
     "metadata": {},
     "output_type": "display_data"
    }
   ],
   "source": [
    "sns.countplot(predicted_lables)"
   ]
  },
  {
   "cell_type": "code",
   "execution_count": 43,
   "metadata": {},
   "outputs": [
    {
     "name": "stdout",
     "output_type": "stream",
     "text": [
      "test_images(4000,2304)\n",
      "predicted_lables(4000)\n",
      "predicted_lables[10] => 1.0\n"
     ]
    }
   ],
   "source": [
    "test_images = Xtest.astype(np.float)\n",
    "\n",
    "# convert from [0:255] => [0.0:1.0]\n",
    "\n",
    "print('test_images({0[0]},{0[1]})'.format(test_images.shape))\n",
    "\n",
    "\n",
    "# predict test set\n",
    "\n",
    "# using batches is more resource efficient\n",
    "predicted_lables = np.zeros(test_images.shape[0])\n",
    "for i in range(0,test_images.shape[0]//BATCH_SIZE):\n",
    "    predicted_lables[i*BATCH_SIZE : (i+1)*BATCH_SIZE] = predict.eval(feed_dict={x: test_images[i*BATCH_SIZE : (i+1)*BATCH_SIZE], \n",
    "                                                                                keep_prob: 1.0})\n",
    "\n",
    "\n",
    "print('predicted_lables({0})'.format(len(predicted_lables)))\n",
    "\n",
    "# output test image and prediction\n",
    "# display(test_images[IMAGE_TO_DISPLAY])\n",
    "print ('predicted_lables[{0}] => {1}'.format(IMAGE_TO_DISPLAY,predicted_lables[IMAGE_TO_DISPLAY]))\n",
    "\n",
    "# save results\n",
    "np.savetxt('submission_test_softmax2.csv', \n",
    "           np.c_[range(1,len(test_images)+1),predicted_lables], \n",
    "           delimiter=',', \n",
    "           header = 'ImageId,Label', \n",
    "           comments = '', \n",
    "           fmt='%d')"
   ]
  },
  {
   "cell_type": "code",
   "execution_count": 44,
   "metadata": {},
   "outputs": [
    {
     "data": {
      "text/plain": [
       "<matplotlib.axes._subplots.AxesSubplot at 0x106462400>"
      ]
     },
     "execution_count": 44,
     "metadata": {},
     "output_type": "execute_result"
    },
    {
     "data": {
      "image/png": "[encoded data removed]",
      "text/plain": [
       "<matplotlib.figure.Figure at 0x133b342b0>"
      ]
     },
     "metadata": {},
     "output_type": "display_data"
    }
   ],
   "source": [
    "sns.countplot(Ytest_flat)"
   ]
  },
  {
   "cell_type": "code",
   "execution_count": 45,
   "metadata": {},
   "outputs": [
    {
     "name": "stdout",
     "output_type": "stream",
     "text": [
      "[[259   4  29  47  75  12  69]\n",
      " [  0 487   0   0   0   0   0]\n",
      " [ 83   2 137  58 127  40  62]\n",
      " [ 48   3  20 694  86  10  74]\n",
      " [ 95   5  39  86 277   6  75]\n",
      " [ 25   2  25  27  25 235  17]\n",
      " [ 59   6  31  96 136  10 297]]\n",
      "\n",
      "\n",
      "             precision    recall  f1-score   support\n",
      "\n",
      "          0   0.455185  0.523232  0.486842       495\n",
      "          1   0.956778  1.000000  0.977912       487\n",
      "          2   0.487544  0.269155  0.346835       509\n",
      "          3   0.688492  0.742246  0.714359       935\n",
      "          4   0.381543  0.475129  0.423224       583\n",
      "          5   0.750799  0.660112  0.702541       356\n",
      "          6   0.500000  0.467717  0.483320       635\n",
      "\n",
      "avg / total   0.597598  0.596500  0.591362      4000\n",
      "\n",
      "0.5965\n"
     ]
    }
   ],
   "source": [
    "from sklearn.metrics import classification_report, confusion_matrix\n",
    "from sklearn.metrics import accuracy_score\n",
    "\n",
    "\n",
    "print(confusion_matrix(Ytest_flat, predicted_lables))\n",
    "print('\\n')\n",
    "print(classification_report(Ytest_flat, predicted_lables, digits = 6))\n",
    "print(accuracy_score(Ytest_flat, predicted_lables))"
   ]
  },
  {
   "cell_type": "code",
   "execution_count": 46,
   "metadata": {},
   "outputs": [
    {
     "data": {
      "text/plain": [
       "<matplotlib.axes._subplots.AxesSubplot at 0x106389dd8>"
      ]
     },
     "execution_count": 46,
     "metadata": {},
     "output_type": "execute_result"
    },
    {
     "data": {
      "image/png": "[encoded data removed]",
      "text/plain": [
       "<matplotlib.figure.Figure at 0x113934438>"
      ]
     },
     "metadata": {},
     "output_type": "display_data"
    }
   ],
   "source": [
    "import seaborn as sns\n",
    "sns.countplot(Ytest_flat)"
   ]
  },
  {
   "cell_type": "code",
   "execution_count": 49,
   "metadata": {},
   "outputs": [],
   "source": [
    "Ytrain_flat = np.argmax(Y, axis=1) # for calculating error rate\n",
    "\n"
   ]
  },
  {
   "cell_type": "code",
   "execution_count": 55,
   "metadata": {},
   "outputs": [],
   "source": [
    "df_train = pd.DataFrame(Ytrain_flat)"
   ]
  },
  {
   "cell_type": "code",
   "execution_count": 57,
   "metadata": {
    "collapsed": true
   },
   "outputs": [],
   "source": [
    "df_test = pd.DataFrame(Ytest_flat)"
   ]
  },
  {
   "cell_type": "code",
   "execution_count": 59,
   "metadata": {},
   "outputs": [],
   "source": [
    "df_train.to_csv('train_true.csv')\n",
    "df_test.to_csv('test_true.csv')"
   ]
  },
  {
   "cell_type": "code",
   "execution_count": 64,
   "metadata": {},
   "outputs": [
    {
     "name": "stdout",
     "output_type": "stream",
     "text": [
      "           f1-score  precision  recall  support\n",
      "0              0.49       0.46    0.52    495.0\n",
      "1              0.98       0.96    1.00    487.0\n",
      "2              0.35       0.49    0.27    509.0\n",
      "3              0.71       0.69    0.74    935.0\n",
      "4              0.42       0.38    0.48    583.0\n",
      "5              0.70       0.75    0.66    356.0\n",
      "6              0.48       0.50    0.47    635.0\n",
      "avg/total      0.59       0.60    0.59   4000.0\n"
     ]
    }
   ],
   "source": [
    "from sklearn.metrics import precision_recall_fscore_support\n",
    "clf_rep = precision_recall_fscore_support(Ytest_flat, predicted_lables)\n",
    "out_dict = {\n",
    "             \"precision\" :clf_rep[0].round(2)\n",
    "            ,\"recall\" : clf_rep[1].round(2)\n",
    "            ,\"f1-score\" : clf_rep[2].round(2)\n",
    "            ,\"support\" : clf_rep[3]\n",
    "            }\n",
    "out_df = pd.DataFrame(out_dict, index = [0,1,2,3,4,5,6])\n",
    "avg_tot = (out_df.apply(lambda x: round(x.mean(), 2) if x.name!=\"support\" else  round(x.sum(), 2)).to_frame().T)\n",
    "avg_tot.index = [\"avg/total\"]\n",
    "out_df = out_df.append(avg_tot)\n",
    "print (out_df)"
   ]
  },
  {
   "cell_type": "code",
   "execution_count": 65,
   "metadata": {
    "collapsed": true
   },
   "outputs": [],
   "source": [
    "out_df.to_csv('CNN2_Precision.csv')"
   ]
  },
  {
   "cell_type": "code",
   "execution_count": null,
   "metadata": {
    "collapsed": true
   },
   "outputs": [],
   "source": []
  }
 ],
 "metadata": {
  "kernelspec": {
   "display_name": "Python 3",
   "language": "python",
   "name": "python3"
  },
  "language_info": {
   "codemirror_mode": {
    "name": "ipython",
    "version": 3
   },
   "file_extension": ".py",
   "mimetype": "text/x-python",
   "name": "python",
   "nbconvert_exporter": "python",
   "pygments_lexer": "ipython3",
   "version": "3.5.4"
  }
 },
 "nbformat": 4,
 "nbformat_minor": 2
}
